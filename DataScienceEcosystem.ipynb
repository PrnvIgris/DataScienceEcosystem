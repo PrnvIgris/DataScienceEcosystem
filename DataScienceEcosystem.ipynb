{
 "cells": [
  {
   "cell_type": "markdown",
   "id": "101be60e-dc8f-4384-95dd-735a63a07600",
   "metadata": {},
   "source": [
    "# Data Science Tools and Ecosysytem"
   ]
  },
  {
   "cell_type": "markdown",
   "id": "01d1f1e4-55a7-4f85-a24b-ef8a1f1f6809",
   "metadata": {},
   "source": [
    "In this notebook, Data Science Tools and Ecosystem are summarized.."
   ]
  },
  {
   "cell_type": "markdown",
   "id": "6f552e59-290d-487a-afb5-15f241e8f59a",
   "metadata": {},
   "source": [
    "Some of the popular languages used by data scientist are:\n",
    "1. Python\n",
    "2. R\n",
    "3. SQL\n",
    "4. C++\n",
    "5. Java, etc.."
   ]
  },
  {
   "cell_type": "markdown",
   "id": "c6bf9bdc-892b-47d0-a171-f45257465213",
   "metadata": {},
   "source": [
    "Some of the commonly used libraries used by data scientists include:\n",
    "1. Tensorflow\n",
    "2. NumPy\n",
    "3. SciPy\n",
    "4. Pandas\n",
    "5. Matplotlib\n",
    "6. Keras\n",
    "7. SciKit-Learn\n",
    "8. PyTorch etc..."
   ]
  },
  {
   "cell_type": "markdown",
   "id": "661686d8-790c-4185-8690-57aea059d200",
   "metadata": {},
   "source": [
    "|Data Science Tools|\n",
    "|---|\n",
    "|SAS|\n",
    "|Apache Hadoop|\n",
    "|Tensorflow|"
   ]
  },
  {
   "cell_type": "markdown",
   "id": "606fe270-db4a-44db-968a-22f7557149d7",
   "metadata": {},
   "source": [
    "### Below are a few examples of evaluating arithmetic expressions in Python."
   ]
  },
  {
   "cell_type": "markdown",
   "id": "e2beac96-e9d6-4125-aab5-c3ce2d6ba97b",
   "metadata": {},
   "source": [
    "### Below are a few examples of evaluating arithmetic expressions in Python."
   ]
  },
  {
   "cell_type": "code",
   "execution_count": 28,
   "id": "e9028559-7605-4efb-9a5b-a2a0d2f699b7",
   "metadata": {},
   "outputs": [
    {
     "data": {
      "text/plain": [
       "17"
      ]
     },
     "execution_count": 28,
     "metadata": {},
     "output_type": "execute_result"
    }
   ],
   "source": [
    "(3*4)+5"
   ]
  },
  {
   "cell_type": "code",
   "execution_count": 20,
   "id": "ff6e9aa5-e8c5-4b88-b3ac-4171157067fe",
   "metadata": {},
   "outputs": [
    {
     "data": {
      "text/plain": [
       "5.0"
      ]
     },
     "execution_count": 20,
     "metadata": {},
     "output_type": "execute_result"
    }
   ],
   "source": [
    "#This will convert 300 minutes to hours by dividing by 60\n",
    "300/60"
   ]
  },
  {
   "cell_type": "markdown",
   "id": "04f17c1c-6c18-4d71-9af4-6f698187dc61",
   "metadata": {},
   "source": [
    "__Objective__\n",
    "* List popular languages for Data science\n",
    "* List popular libraries for Data science\n",
    "* List of well known data science tools\n",
    "* How to provide comments in the cell"
   ]
  },
  {
   "cell_type": "markdown",
   "id": "36714af5-b976-4057-a282-21d6cf5448e4",
   "metadata": {},
   "source": [
    "## Author\n",
    "Pranav"
   ]
  }
 ],
 "metadata": {
  "kernelspec": {
   "display_name": "Python [conda env:base] *",
   "language": "python",
   "name": "conda-base-py"
  },
  "language_info": {
   "codemirror_mode": {
    "name": "ipython",
    "version": 3
   },
   "file_extension": ".py",
   "mimetype": "text/x-python",
   "name": "python",
   "nbconvert_exporter": "python",
   "pygments_lexer": "ipython3",
   "version": "3.12.7"
  }
 },
 "nbformat": 4,
 "nbformat_minor": 5
}
